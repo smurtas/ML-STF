{
 "cells": [
  {
   "cell_type": "code",
   "execution_count": null,
   "id": "d3ee7c85",
   "metadata": {
    "vscode": {
     "languageId": "plaintext"
    }
   },
   "outputs": [],
   "source": [
    "import os\n",
    "import json\n",
    "from PIL import Image\n",
    "import torch\n",
    "import torchvision.transforms as transforms\n",
    "import torchvision.models as models\n",
    "import faiss\n",
    "import numpy as np\n",
    "\n",
    "# Configurazione\n",
    "gallery_folder = 'Data_example/test/gallery'\n",
    "query_folder   = 'Data_example/test/query'\n",
    "top_k = 3\n",
    "\n",
    "# Carica il modello pre-addestrato\n",
    "model = models.resnet50(pretrained=True)\n",
    "model = torch.nn.Sequential(*list(model.children())[:-1])  # Rimuove l'ultima classificazione\n",
    "model.eval()\n",
    "\n",
    "# Trasformazioni per le immagini\n",
    "transform = transforms.Compose([\n",
    "    transforms.Resize((224, 224)),\n",
    "    transforms.ToTensor(),\n",
    "])\n",
    "\n",
    "# Funzione per estrarre le feature\n",
    "def extract_features(image_path):\n",
    "    image = Image.open(image_path).convert('RGB')\n",
    "    image = transform(image).unsqueeze(0)\n",
    "    with torch.no_grad():\n",
    "        feature = model(image)\n",
    "    return feature.squeeze().numpy()\n",
    "\n",
    "# Estrai feature per la galleria\n",
    "gallery_paths = [os.path.join(gallery_folder, fname) for fname in os.listdir(gallery_folder)]\n",
    "gallery_features = np.array([extract_features(p) for p in gallery_paths]).astype('float32')\n",
    "\n",
    "# Costruisci l’indice FAISS\n",
    "index = faiss.IndexFlatL2(gallery_features.shape[1])\n",
    "index.add(gallery_features)\n",
    "\n",
    "# Estrai feature per ogni immagine query e trova le immagini più simili\n",
    "results = []\n",
    "query_paths = [os.path.join(query_folder, fname) for fname in os.listdir(query_folder)]\n",
    "\n",
    "for q_path in query_paths:\n",
    "    q_feat = extract_features(q_path).astype('float32').reshape(1, -1)\n",
    "    distances, indices = index.search(q_feat, top_k)\n",
    "    similar_images = [gallery_paths[i] for i in indices[0]]\n",
    "    results.append({\n",
    "        \"filename\": q_path,\n",
    "        \"gallery_images\": similar_images\n",
    "    })\n",
    "\n",
    "\n",
    "# Salva o stampa il risultato in formato JSON\n",
    "with open('submission2.json', 'w') as f:\n",
    "    json.dump(results, f, indent=2)\n",
    "\n",
    "print('submission ok')"
   ]
  }
 ],
 "metadata": {
  "language_info": {
   "name": "python"
  }
 },
 "nbformat": 4,
 "nbformat_minor": 5
}
